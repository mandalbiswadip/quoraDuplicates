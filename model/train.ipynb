{
 "cells": [
  {
   "cell_type": "code",
   "execution_count": 1,
   "metadata": {},
   "outputs": [],
   "source": [
    "from __future__ import unicode_literals, division\n",
    "import re\n",
    "import sys\n",
    "from tqdm import tqdm_notebook"
   ]
  },
  {
   "cell_type": "code",
   "execution_count": 2,
   "metadata": {},
   "outputs": [],
   "source": [
    "# ! pip install tqdm --user "
   ]
  },
  {
   "cell_type": "code",
   "execution_count": 3,
   "metadata": {},
   "outputs": [],
   "source": [
    "import pandas as pd\n",
    "import numpy as np\n",
    "import spacy\n",
    "\n",
    "import tensorflow as tf"
   ]
  },
  {
   "cell_type": "code",
   "execution_count": 4,
   "metadata": {},
   "outputs": [],
   "source": [
    "%matplotlib inline\n",
    "import matplotlib.pyplot as plt\n",
    "import seaborn as sns\n",
    "plt.rcParams['figure.figsize'] = (10,10)\n",
    "sns.set()"
   ]
  },
  {
   "cell_type": "code",
   "execution_count": 5,
   "metadata": {},
   "outputs": [],
   "source": [
    "%load_ext autoreload\n",
    "%autoreload 2"
   ]
  },
  {
   "cell_type": "code",
   "execution_count": 6,
   "metadata": {},
   "outputs": [
    {
     "name": "stderr",
     "output_type": "stream",
     "text": [
      "/home/u26008/.local/lib/python3.6/site-packages/smart_open/ssh.py:34: UserWarning: paramiko missing, opening SSH/SCP/SFTP paths will be disabled.  `pip install paramiko` to suppress\n",
      "  warnings.warn('paramiko missing, opening SSH/SCP/SFTP paths will be disabled.  `pip install paramiko` to suppress')\n"
     ]
    }
   ],
   "source": [
    "from embedding import get_embedding\n",
    "from config import Config\n",
    "from data_utils import tokenize_sent"
   ]
  },
  {
   "cell_type": "markdown",
   "metadata": {},
   "source": [
    "## POS Tags"
   ]
  },
  {
   "cell_type": "code",
   "execution_count": null,
   "metadata": {},
   "outputs": [],
   "source": [
    "nlp = spacy.load('en_core_web_sm')\n",
    "def get_pos_tags(word_list):\n",
    "    tags = []\n",
    "    sent = ' '.join(word_list)\n",
    "    doc = nlp(sent)\n",
    "    [tags.append(token.tag_) for token in doc]\n",
    "    return tags"
   ]
  },
  {
   "cell_type": "code",
   "execution_count": null,
   "metadata": {},
   "outputs": [],
   "source": [
    "get_pos_tags('i druuink tea'.split())"
   ]
  },
  {
   "cell_type": "markdown",
   "metadata": {},
   "source": [
    "# Get configurations"
   ]
  },
  {
   "cell_type": "code",
   "execution_count": null,
   "metadata": {},
   "outputs": [],
   "source": [
    "config = Config()\n",
    "max_len = 70\n",
    "embedding_size = config.embedding_size"
   ]
  },
  {
   "cell_type": "code",
   "execution_count": null,
   "metadata": {},
   "outputs": [],
   "source": [
    "path = '../train.csv'"
   ]
  },
  {
   "cell_type": "code",
   "execution_count": null,
   "metadata": {},
   "outputs": [],
   "source": [
    "data = pd.read_csv(path)\n",
    "data = data[:100000]\n"
   ]
  },
  {
   "cell_type": "code",
   "execution_count": null,
   "metadata": {},
   "outputs": [],
   "source": [
    "columns = data.columns"
   ]
  },
  {
   "cell_type": "code",
   "execution_count": null,
   "metadata": {},
   "outputs": [],
   "source": [
    "columns"
   ]
  },
  {
   "cell_type": "code",
   "execution_count": 17,
   "metadata": {},
   "outputs": [
    {
     "data": {
      "text/html": [
       "<div>\n",
       "<style scoped>\n",
       "    .dataframe tbody tr th:only-of-type {\n",
       "        vertical-align: middle;\n",
       "    }\n",
       "\n",
       "    .dataframe tbody tr th {\n",
       "        vertical-align: top;\n",
       "    }\n",
       "\n",
       "    .dataframe thead th {\n",
       "        text-align: right;\n",
       "    }\n",
       "</style>\n",
       "<table border=\"1\" class=\"dataframe\">\n",
       "  <thead>\n",
       "    <tr style=\"text-align: right;\">\n",
       "      <th></th>\n",
       "      <th>id</th>\n",
       "      <th>qid1</th>\n",
       "      <th>qid2</th>\n",
       "      <th>question1</th>\n",
       "      <th>question2</th>\n",
       "      <th>is_duplicate</th>\n",
       "    </tr>\n",
       "  </thead>\n",
       "  <tbody>\n",
       "    <tr>\n",
       "      <th>0</th>\n",
       "      <td>0</td>\n",
       "      <td>1</td>\n",
       "      <td>2</td>\n",
       "      <td>What is the step by step guide to invest in sh...</td>\n",
       "      <td>What is the step by step guide to invest in sh...</td>\n",
       "      <td>0</td>\n",
       "    </tr>\n",
       "    <tr>\n",
       "      <th>1</th>\n",
       "      <td>1</td>\n",
       "      <td>3</td>\n",
       "      <td>4</td>\n",
       "      <td>What is the story of Kohinoor (Koh-i-Noor) Dia...</td>\n",
       "      <td>What would happen if the Indian government sto...</td>\n",
       "      <td>0</td>\n",
       "    </tr>\n",
       "    <tr>\n",
       "      <th>2</th>\n",
       "      <td>2</td>\n",
       "      <td>5</td>\n",
       "      <td>6</td>\n",
       "      <td>How can I increase the speed of my internet co...</td>\n",
       "      <td>How can Internet speed be increased by hacking...</td>\n",
       "      <td>0</td>\n",
       "    </tr>\n",
       "    <tr>\n",
       "      <th>3</th>\n",
       "      <td>3</td>\n",
       "      <td>7</td>\n",
       "      <td>8</td>\n",
       "      <td>Why am I mentally very lonely? How can I solve...</td>\n",
       "      <td>Find the remainder when [math]23^{24}[/math] i...</td>\n",
       "      <td>0</td>\n",
       "    </tr>\n",
       "    <tr>\n",
       "      <th>4</th>\n",
       "      <td>4</td>\n",
       "      <td>9</td>\n",
       "      <td>10</td>\n",
       "      <td>Which one dissolve in water quikly sugar, salt...</td>\n",
       "      <td>Which fish would survive in salt water?</td>\n",
       "      <td>0</td>\n",
       "    </tr>\n",
       "  </tbody>\n",
       "</table>\n",
       "</div>"
      ],
      "text/plain": [
       "   id  qid1  qid2                                          question1  \\\n",
       "0   0     1     2  What is the step by step guide to invest in sh...   \n",
       "1   1     3     4  What is the story of Kohinoor (Koh-i-Noor) Dia...   \n",
       "2   2     5     6  How can I increase the speed of my internet co...   \n",
       "3   3     7     8  Why am I mentally very lonely? How can I solve...   \n",
       "4   4     9    10  Which one dissolve in water quikly sugar, salt...   \n",
       "\n",
       "                                           question2  is_duplicate  \n",
       "0  What is the step by step guide to invest in sh...             0  \n",
       "1  What would happen if the Indian government sto...             0  \n",
       "2  How can Internet speed be increased by hacking...             0  \n",
       "3  Find the remainder when [math]23^{24}[/math] i...             0  \n",
       "4            Which fish would survive in salt water?             0  "
      ]
     },
     "execution_count": 17,
     "metadata": {},
     "output_type": "execute_result"
    }
   ],
   "source": [
    "data.head(5)"
   ]
  },
  {
   "cell_type": "code",
   "execution_count": 16,
   "metadata": {},
   "outputs": [
    {
     "data": {
      "text/plain": [
       "id              0\n",
       "qid1            0\n",
       "qid2            0\n",
       "question1       0\n",
       "question2       0\n",
       "is_duplicate    0\n",
       "dtype: int64"
      ]
     },
     "execution_count": 16,
     "metadata": {},
     "output_type": "execute_result"
    }
   ],
   "source": [
    "data.isna().sum()"
   ]
  },
  {
   "cell_type": "markdown",
   "metadata": {},
   "source": [
    "# sequence lengths"
   ]
  },
  {
   "cell_type": "code",
   "execution_count": 18,
   "metadata": {},
   "outputs": [],
   "source": [
    "data['seql_one'] = data['question1'].apply(lambda row: len(tokenize_sent(str(row).lower())))\n",
    "data['seql_two'] = data['question2'].apply(lambda row: len(tokenize_sent(str(row).lower())))"
   ]
  },
  {
   "cell_type": "code",
   "execution_count": 19,
   "metadata": {},
   "outputs": [],
   "source": [
    "data = data.loc[(data.seql_one != 0)  & (data.seql_two!=0) ]"
   ]
  },
  {
   "cell_type": "code",
   "execution_count": 20,
   "metadata": {},
   "outputs": [
    {
     "data": {
      "text/plain": [
       "Index(['id', 'qid1', 'qid2', 'question1', 'question2', 'is_duplicate',\n",
       "       'seql_one', 'seql_two'],\n",
       "      dtype='object')"
      ]
     },
     "execution_count": 20,
     "metadata": {},
     "output_type": "execute_result"
    }
   ],
   "source": [
    "data.columns"
   ]
  },
  {
   "cell_type": "markdown",
   "metadata": {},
   "source": [
    "# spliting data to train and dev"
   ]
  },
  {
   "cell_type": "markdown",
   "metadata": {},
   "source": [
    "80% train data and 20% test data"
   ]
  },
  {
   "cell_type": "code",
   "execution_count": 21,
   "metadata": {},
   "outputs": [],
   "source": [
    "split_ratio = 0.8"
   ]
  },
  {
   "cell_type": "code",
   "execution_count": 22,
   "metadata": {},
   "outputs": [],
   "source": [
    "l = len(data)"
   ]
  },
  {
   "cell_type": "code",
   "execution_count": 23,
   "metadata": {},
   "outputs": [],
   "source": [
    "train_length = int(l*split_ratio)"
   ]
  },
  {
   "cell_type": "code",
   "execution_count": 24,
   "metadata": {},
   "outputs": [
    {
     "data": {
      "text/html": [
       "<div>\n",
       "<style scoped>\n",
       "    .dataframe tbody tr th:only-of-type {\n",
       "        vertical-align: middle;\n",
       "    }\n",
       "\n",
       "    .dataframe tbody tr th {\n",
       "        vertical-align: top;\n",
       "    }\n",
       "\n",
       "    .dataframe thead th {\n",
       "        text-align: right;\n",
       "    }\n",
       "</style>\n",
       "<table border=\"1\" class=\"dataframe\">\n",
       "  <thead>\n",
       "    <tr style=\"text-align: right;\">\n",
       "      <th></th>\n",
       "      <th>id</th>\n",
       "      <th>qid1</th>\n",
       "      <th>qid2</th>\n",
       "      <th>question1</th>\n",
       "      <th>question2</th>\n",
       "      <th>seql_one</th>\n",
       "      <th>seql_two</th>\n",
       "    </tr>\n",
       "    <tr>\n",
       "      <th>is_duplicate</th>\n",
       "      <th></th>\n",
       "      <th></th>\n",
       "      <th></th>\n",
       "      <th></th>\n",
       "      <th></th>\n",
       "      <th></th>\n",
       "      <th></th>\n",
       "    </tr>\n",
       "  </thead>\n",
       "  <tbody>\n",
       "    <tr>\n",
       "      <th>0</th>\n",
       "      <td>62740</td>\n",
       "      <td>62740</td>\n",
       "      <td>62740</td>\n",
       "      <td>62740</td>\n",
       "      <td>62740</td>\n",
       "      <td>62740</td>\n",
       "      <td>62740</td>\n",
       "    </tr>\n",
       "    <tr>\n",
       "      <th>1</th>\n",
       "      <td>37254</td>\n",
       "      <td>37254</td>\n",
       "      <td>37254</td>\n",
       "      <td>37254</td>\n",
       "      <td>37254</td>\n",
       "      <td>37254</td>\n",
       "      <td>37254</td>\n",
       "    </tr>\n",
       "  </tbody>\n",
       "</table>\n",
       "</div>"
      ],
      "text/plain": [
       "                 id   qid1   qid2  question1  question2  seql_one  seql_two\n",
       "is_duplicate                                                               \n",
       "0             62740  62740  62740      62740      62740     62740     62740\n",
       "1             37254  37254  37254      37254      37254     37254     37254"
      ]
     },
     "execution_count": 24,
     "metadata": {},
     "output_type": "execute_result"
    }
   ],
   "source": [
    "data.groupby('is_duplicate').count()"
   ]
  },
  {
   "cell_type": "markdown",
   "metadata": {},
   "source": [
    "# word2vec features\n"
   ]
  },
  {
   "cell_type": "code",
   "execution_count": 25,
   "metadata": {},
   "outputs": [],
   "source": [
    "pos_tag_dict={}\n",
    "d_count = 0\n",
    "def get_tags(sent, pos_tag_dict):\n",
    "    tags = []\n",
    "    for tok in get_pos_tags(tokenize_sent(sent.lower())):\n",
    "        if tok not in pos_tag_dict:\n",
    "            pos_tag_dict[tok] = d_count\n",
    "            d_count+=1\n",
    "        tags.append(pos_tag_dict[tok])\n",
    "    return tags    "
   ]
  },
  {
   "cell_type": "code",
   "execution_count": 26,
   "metadata": {},
   "outputs": [],
   "source": [
    "pos_tag_dict={}\n",
    "d_count = 0\n",
    "def get_sent_embedding(sent):\n",
    "    sent = str(sent).lower().strip()\n",
    "    counter = 0\n",
    "    tokens = tokenize_sent(sent)\n",
    "    tags = get_pos_tags(tokens)\n",
    "    vector = np.empty((len(tokens), config.embedding_size+1))\n",
    "    \n",
    "\n",
    "    for i in range(len(tokens)):\n",
    "        w = tokens[i] \n",
    "        tok = tags[i]\n",
    "        global pos_tag_dict\n",
    "        global d_count\n",
    "\n",
    "        if tok not in pos_tag_dict:\n",
    "            pos_tag_dict[tok] = d_count\n",
    "            d_count+=1\n",
    "        vector[i] = (np.append(get_embedding(w), pos_tag_dict[tok]))\n",
    "    return vector"
   ]
  },
  {
   "cell_type": "code",
   "execution_count": 28,
   "metadata": {},
   "outputs": [],
   "source": [
    "# get_sent_embedding('i love reading')"
   ]
  },
  {
   "cell_type": "code",
   "execution_count": 29,
   "metadata": {},
   "outputs": [
    {
     "name": "stdout",
     "output_type": "stream",
     "text": [
      "4.56 ms ± 12.5 µs per loop (mean ± std. dev. of 7 runs, 100 loops each)\n"
     ]
    }
   ],
   "source": [
    "%%timeit\n",
    "len(get_sent_embedding('i love reading'))"
   ]
  },
  {
   "cell_type": "code",
   "execution_count": 30,
   "metadata": {},
   "outputs": [],
   "source": [
    "# train_data['question1'].apply(lambda row: get_tags())"
   ]
  },
  {
   "cell_type": "code",
   "execution_count": 31,
   "metadata": {},
   "outputs": [
    {
     "name": "stderr",
     "output_type": "stream",
     "text": [
      "/glob/intel-python/versions/2019u2/intelpython3/lib/python3.6/site-packages/ipykernel_launcher.py:4: SettingWithCopyWarning: \n",
      "A value is trying to be set on a copy of a slice from a DataFrame.\n",
      "Try using .loc[row_indexer,col_indexer] = value instead\n",
      "\n",
      "See the caveats in the documentation: http://pandas.pydata.org/pandas-docs/stable/indexing.html#indexing-view-versus-copy\n",
      "  after removing the cwd from sys.path.\n",
      "/glob/intel-python/versions/2019u2/intelpython3/lib/python3.6/site-packages/ipykernel_launcher.py:5: SettingWithCopyWarning: \n",
      "A value is trying to be set on a copy of a slice from a DataFrame.\n",
      "Try using .loc[row_indexer,col_indexer] = value instead\n",
      "\n",
      "See the caveats in the documentation: http://pandas.pydata.org/pandas-docs/stable/indexing.html#indexing-view-versus-copy\n",
      "  \"\"\"\n"
     ]
    }
   ],
   "source": [
    "train_data = data[:train_length]\n",
    "\n",
    "\n",
    "train_data['vec_1'] = train_data['question1'].apply(lambda row: get_sent_embedding(row))\n",
    "train_data['vec_2'] = train_data['question2'].apply(lambda row: get_sent_embedding(row))\n",
    "\n",
    "train_data_all = list(zip(train_data.vec_1, train_data.vec_2, \n",
    "                 train_data.seql_one, train_data.seql_two, \n",
    "                 train_data.is_duplicate))\n"
   ]
  },
  {
   "cell_type": "code",
   "execution_count": 32,
   "metadata": {},
   "outputs": [
    {
     "name": "stderr",
     "output_type": "stream",
     "text": [
      "/glob/intel-python/versions/2019u2/intelpython3/lib/python3.6/site-packages/ipykernel_launcher.py:4: SettingWithCopyWarning: \n",
      "A value is trying to be set on a copy of a slice from a DataFrame.\n",
      "Try using .loc[row_indexer,col_indexer] = value instead\n",
      "\n",
      "See the caveats in the documentation: http://pandas.pydata.org/pandas-docs/stable/indexing.html#indexing-view-versus-copy\n",
      "  after removing the cwd from sys.path.\n",
      "/glob/intel-python/versions/2019u2/intelpython3/lib/python3.6/site-packages/ipykernel_launcher.py:5: SettingWithCopyWarning: \n",
      "A value is trying to be set on a copy of a slice from a DataFrame.\n",
      "Try using .loc[row_indexer,col_indexer] = value instead\n",
      "\n",
      "See the caveats in the documentation: http://pandas.pydata.org/pandas-docs/stable/indexing.html#indexing-view-versus-copy\n",
      "  \"\"\"\n"
     ]
    }
   ],
   "source": [
    "dev_data = data[train_length:]\n",
    "\n",
    "\n",
    "dev_data['vec_1'] = dev_data['question1'].apply(lambda row: get_sent_embedding(row))\n",
    "dev_data['vec_2'] = dev_data['question2'].apply(lambda row: get_sent_embedding(row))\n",
    "\n",
    "dev_data_all = list(zip(dev_data.vec_1, dev_data.vec_2, \n",
    "               dev_data.seql_one, dev_data.seql_two, \n",
    "               dev_data.is_duplicate))\n"
   ]
  },
  {
   "cell_type": "code",
   "execution_count": 7,
   "metadata": {},
   "outputs": [],
   "source": [
    "import pickle"
   ]
  },
  {
   "cell_type": "code",
   "execution_count": 35,
   "metadata": {},
   "outputs": [],
   "source": [
    "data_dict = {'train_data_all':train_data_all,\n",
    "'dev_data_all':dev_data_all}"
   ]
  },
  {
   "cell_type": "code",
   "execution_count": 37,
   "metadata": {},
   "outputs": [],
   "source": [
    "with open('data.pickle', 'wb') as handle:\n",
    "    pickle.dump(data_dict, handle, protocol=pickle.HIGHEST_PROTOCOL)"
   ]
  },
  {
   "cell_type": "code",
   "execution_count": 9,
   "metadata": {},
   "outputs": [],
   "source": [
    "# Load data (deserialize)\n",
    "with open('data.pickle', 'rb') as handle:\n",
    "    unserialized_data = pickle.load(handle)"
   ]
  },
  {
   "cell_type": "code",
   "execution_count": 11,
   "metadata": {},
   "outputs": [],
   "source": [
    "train_data_all = unserialized_data['train_data_all']\n",
    "dev_data_all = unserialized_data['dev_data_all']"
   ]
  },
  {
   "cell_type": "markdown",
   "metadata": {},
   "source": [
    "# Building and training Model"
   ]
  },
  {
   "cell_type": "code",
   "execution_count": 24,
   "metadata": {},
   "outputs": [],
   "source": [
    "from model import Model\n",
    "model = Model()"
   ]
  },
  {
   "cell_type": "code",
   "execution_count": 25,
   "metadata": {},
   "outputs": [],
   "source": [
    "model.config.n_hidden = 128\n",
    "model.config.lr = 0.0025\n",
    "model.config.batch_size = 16\n",
    "model.config.n_layers =3\n",
    "model.config.keep_prob = 0.7\n",
    "model.config.lambda_l2_reg = 0\n",
    "model.config.gradient_clipping = False\n",
    "model.config.triplet_loss=True"
   ]
  },
  {
   "cell_type": "code",
   "execution_count": 26,
   "metadata": {},
   "outputs": [
    {
     "name": "stdout",
     "output_type": "stream",
     "text": [
      "INFO:tensorflow:Summary name gradients/lstm/bidirectional_rnn/fw/multi_rnn_cell/cell_0/lstm_cell/kernel:0 is illegal; using gradients/lstm/bidirectional_rnn/fw/multi_rnn_cell/cell_0/lstm_cell/kernel_0 instead.\n",
      "INFO:tensorflow:Summary name variables/lstm/bidirectional_rnn/fw/multi_rnn_cell/cell_0/lstm_cell/kernel:0 is illegal; using variables/lstm/bidirectional_rnn/fw/multi_rnn_cell/cell_0/lstm_cell/kernel_0 instead.\n",
      "INFO:tensorflow:Summary name gradients/lstm/bidirectional_rnn/fw/multi_rnn_cell/cell_0/lstm_cell/bias:0 is illegal; using gradients/lstm/bidirectional_rnn/fw/multi_rnn_cell/cell_0/lstm_cell/bias_0 instead.\n",
      "INFO:tensorflow:Summary name variables/lstm/bidirectional_rnn/fw/multi_rnn_cell/cell_0/lstm_cell/bias:0 is illegal; using variables/lstm/bidirectional_rnn/fw/multi_rnn_cell/cell_0/lstm_cell/bias_0 instead.\n",
      "INFO:tensorflow:Summary name gradients/lstm/bidirectional_rnn/fw/multi_rnn_cell/cell_1/lstm_cell/kernel:0 is illegal; using gradients/lstm/bidirectional_rnn/fw/multi_rnn_cell/cell_1/lstm_cell/kernel_0 instead.\n",
      "INFO:tensorflow:Summary name variables/lstm/bidirectional_rnn/fw/multi_rnn_cell/cell_1/lstm_cell/kernel:0 is illegal; using variables/lstm/bidirectional_rnn/fw/multi_rnn_cell/cell_1/lstm_cell/kernel_0 instead.\n",
      "INFO:tensorflow:Summary name gradients/lstm/bidirectional_rnn/fw/multi_rnn_cell/cell_1/lstm_cell/bias:0 is illegal; using gradients/lstm/bidirectional_rnn/fw/multi_rnn_cell/cell_1/lstm_cell/bias_0 instead.\n",
      "INFO:tensorflow:Summary name variables/lstm/bidirectional_rnn/fw/multi_rnn_cell/cell_1/lstm_cell/bias:0 is illegal; using variables/lstm/bidirectional_rnn/fw/multi_rnn_cell/cell_1/lstm_cell/bias_0 instead.\n",
      "INFO:tensorflow:Summary name gradients/lstm/bidirectional_rnn/fw/multi_rnn_cell/cell_2/lstm_cell/kernel:0 is illegal; using gradients/lstm/bidirectional_rnn/fw/multi_rnn_cell/cell_2/lstm_cell/kernel_0 instead.\n",
      "INFO:tensorflow:Summary name variables/lstm/bidirectional_rnn/fw/multi_rnn_cell/cell_2/lstm_cell/kernel:0 is illegal; using variables/lstm/bidirectional_rnn/fw/multi_rnn_cell/cell_2/lstm_cell/kernel_0 instead.\n",
      "INFO:tensorflow:Summary name gradients/lstm/bidirectional_rnn/fw/multi_rnn_cell/cell_2/lstm_cell/bias:0 is illegal; using gradients/lstm/bidirectional_rnn/fw/multi_rnn_cell/cell_2/lstm_cell/bias_0 instead.\n",
      "INFO:tensorflow:Summary name variables/lstm/bidirectional_rnn/fw/multi_rnn_cell/cell_2/lstm_cell/bias:0 is illegal; using variables/lstm/bidirectional_rnn/fw/multi_rnn_cell/cell_2/lstm_cell/bias_0 instead.\n",
      "INFO:tensorflow:Summary name gradients/lstm/bidirectional_rnn/bw/multi_rnn_cell/cell_0/lstm_cell/kernel:0 is illegal; using gradients/lstm/bidirectional_rnn/bw/multi_rnn_cell/cell_0/lstm_cell/kernel_0 instead.\n",
      "INFO:tensorflow:Summary name variables/lstm/bidirectional_rnn/bw/multi_rnn_cell/cell_0/lstm_cell/kernel:0 is illegal; using variables/lstm/bidirectional_rnn/bw/multi_rnn_cell/cell_0/lstm_cell/kernel_0 instead.\n",
      "INFO:tensorflow:Summary name gradients/lstm/bidirectional_rnn/bw/multi_rnn_cell/cell_0/lstm_cell/bias:0 is illegal; using gradients/lstm/bidirectional_rnn/bw/multi_rnn_cell/cell_0/lstm_cell/bias_0 instead.\n",
      "INFO:tensorflow:Summary name variables/lstm/bidirectional_rnn/bw/multi_rnn_cell/cell_0/lstm_cell/bias:0 is illegal; using variables/lstm/bidirectional_rnn/bw/multi_rnn_cell/cell_0/lstm_cell/bias_0 instead.\n",
      "INFO:tensorflow:Summary name gradients/lstm/bidirectional_rnn/bw/multi_rnn_cell/cell_1/lstm_cell/kernel:0 is illegal; using gradients/lstm/bidirectional_rnn/bw/multi_rnn_cell/cell_1/lstm_cell/kernel_0 instead.\n",
      "INFO:tensorflow:Summary name variables/lstm/bidirectional_rnn/bw/multi_rnn_cell/cell_1/lstm_cell/kernel:0 is illegal; using variables/lstm/bidirectional_rnn/bw/multi_rnn_cell/cell_1/lstm_cell/kernel_0 instead.\n",
      "INFO:tensorflow:Summary name gradients/lstm/bidirectional_rnn/bw/multi_rnn_cell/cell_1/lstm_cell/bias:0 is illegal; using gradients/lstm/bidirectional_rnn/bw/multi_rnn_cell/cell_1/lstm_cell/bias_0 instead.\n",
      "INFO:tensorflow:Summary name variables/lstm/bidirectional_rnn/bw/multi_rnn_cell/cell_1/lstm_cell/bias:0 is illegal; using variables/lstm/bidirectional_rnn/bw/multi_rnn_cell/cell_1/lstm_cell/bias_0 instead.\n",
      "INFO:tensorflow:Summary name gradients/lstm/bidirectional_rnn/bw/multi_rnn_cell/cell_2/lstm_cell/kernel:0 is illegal; using gradients/lstm/bidirectional_rnn/bw/multi_rnn_cell/cell_2/lstm_cell/kernel_0 instead.\n",
      "INFO:tensorflow:Summary name variables/lstm/bidirectional_rnn/bw/multi_rnn_cell/cell_2/lstm_cell/kernel:0 is illegal; using variables/lstm/bidirectional_rnn/bw/multi_rnn_cell/cell_2/lstm_cell/kernel_0 instead.\n",
      "INFO:tensorflow:Summary name gradients/lstm/bidirectional_rnn/bw/multi_rnn_cell/cell_2/lstm_cell/bias:0 is illegal; using gradients/lstm/bidirectional_rnn/bw/multi_rnn_cell/cell_2/lstm_cell/bias_0 instead.\n",
      "INFO:tensorflow:Summary name variables/lstm/bidirectional_rnn/bw/multi_rnn_cell/cell_2/lstm_cell/bias:0 is illegal; using variables/lstm/bidirectional_rnn/bw/multi_rnn_cell/cell_2/lstm_cell/bias_0 instead.\n"
     ]
    }
   ],
   "source": [
    "tf.reset_default_graph()\n",
    "model.build()"
   ]
  },
  {
   "cell_type": "code",
   "execution_count": null,
   "metadata": {},
   "outputs": [
    {
     "data": {
      "application/vnd.jupyter.widget-view+json": {
       "model_id": "192560b87d994fe789f103a4a9e7a753",
       "version_major": 2,
       "version_minor": 0
      },
      "text/plain": [
       "A Jupyter Widget"
      ]
     },
     "metadata": {},
     "output_type": "display_data"
    }
   ],
   "source": [
    "model.train(train_data=train_data_all, dev_data=dev_data_all)"
   ]
  },
  {
   "cell_type": "code",
   "execution_count": null,
   "metadata": {},
   "outputs": [],
   "source": []
  },
  {
   "cell_type": "markdown",
   "metadata": {},
   "source": [
    "## Restore Model"
   ]
  },
  {
   "cell_type": "code",
   "execution_count": null,
   "metadata": {},
   "outputs": [],
   "source": [
    "model.restore_session(config.save_dir)"
   ]
  },
  {
   "cell_type": "markdown",
   "metadata": {},
   "source": [
    "## Test accuracy"
   ]
  },
  {
   "cell_type": "code",
   "execution_count": null,
   "metadata": {},
   "outputs": [],
   "source": [
    "def get_score(model, vec_1, vec_2):\n",
    "    s1 = len(vec_1)\n",
    "    s2 = len(vec_2)\n",
    "    return model.get_feed_dict(sent_1=[vec_1], \n",
    "                        sent_2=[vec_2], \n",
    "                        sent_1_len=[s1], \n",
    "                        sent_2_len=[s2],\n",
    "                        label = None\n",
    "                       )\n",
    "    "
   ]
  },
  {
   "cell_type": "code",
   "execution_count": null,
   "metadata": {},
   "outputs": [],
   "source": [
    "# get_score(model, dev_data.vec_1.values, dev_data.vec_2.values)"
   ]
  },
  {
   "cell_type": "code",
   "execution_count": null,
   "metadata": {},
   "outputs": [],
   "source": [
    "def get_l2_score(model, vec1, vec2):\n",
    "    return model.sess.run(model.l2, feed_dict=get_score(model, vec1, vec2))\n",
    "    "
   ]
  },
  {
   "cell_type": "code",
   "execution_count": null,
   "metadata": {},
   "outputs": [],
   "source": [
    "# dev_data.head()"
   ]
  },
  {
   "cell_type": "code",
   "execution_count": null,
   "metadata": {},
   "outputs": [],
   "source": [
    "dev_data['l2'] = dev_data.apply(lambda row: get_l2_score(model, row['vec_1'], row['vec_2']), axis=1)"
   ]
  },
  {
   "cell_type": "code",
   "execution_count": null,
   "metadata": {},
   "outputs": [],
   "source": [
    "dev_data['l2'] = dev_data['l2'].apply(lambda x: x[0])"
   ]
  },
  {
   "cell_type": "code",
   "execution_count": null,
   "metadata": {},
   "outputs": [],
   "source": [
    "no_dup_data = dev_data[dev_data['is_duplicate']==0]"
   ]
  },
  {
   "cell_type": "code",
   "execution_count": null,
   "metadata": {},
   "outputs": [],
   "source": [
    "dup_data = dev_data[dev_data['is_duplicate']==1]"
   ]
  },
  {
   "cell_type": "code",
   "execution_count": null,
   "metadata": {},
   "outputs": [],
   "source": [
    "no_dup_data.l2.hist(bins=50)\n",
    "# no_dup_data.l2.mean()"
   ]
  },
  {
   "cell_type": "code",
   "execution_count": null,
   "metadata": {},
   "outputs": [],
   "source": [
    "dup_data.l2.hist(bins=50)\n",
    "# dup_data.l2.mean()"
   ]
  },
  {
   "cell_type": "code",
   "execution_count": 44,
   "metadata": {},
   "outputs": [],
   "source": [
    "boundary = 0.7"
   ]
  },
  {
   "cell_type": "code",
   "execution_count": 45,
   "metadata": {},
   "outputs": [
    {
     "data": {
      "text/plain": [
       "0.6746337316865844"
      ]
     },
     "execution_count": 45,
     "metadata": {},
     "output_type": "execute_result"
    }
   ],
   "source": [
    "(len(dup_data[dup_data.l2<boundary]) + len(no_dup_data[no_dup_data.l2>=boundary]))/len(dev_data)"
   ]
  },
  {
   "cell_type": "code",
   "execution_count": null,
   "metadata": {},
   "outputs": [],
   "source": []
  },
  {
   "cell_type": "markdown",
   "metadata": {},
   "source": [
    "##  Train Accuracy"
   ]
  },
  {
   "cell_type": "code",
   "execution_count": 46,
   "metadata": {},
   "outputs": [
    {
     "name": "stderr",
     "output_type": "stream",
     "text": [
      "/glob/intel-python/versions/2019u2/intelpython3/lib/python3.6/site-packages/ipykernel_launcher.py:1: SettingWithCopyWarning: \n",
      "A value is trying to be set on a copy of a slice from a DataFrame.\n",
      "Try using .loc[row_indexer,col_indexer] = value instead\n",
      "\n",
      "See the caveats in the documentation: http://pandas.pydata.org/pandas-docs/stable/indexing.html#indexing-view-versus-copy\n",
      "  \"\"\"Entry point for launching an IPython kernel.\n"
     ]
    }
   ],
   "source": [
    "train_data['l2'] = train_data.apply(lambda row: get_l2_score(model, row['vec_1'], row['vec_2']), axis=1)"
   ]
  },
  {
   "cell_type": "code",
   "execution_count": 47,
   "metadata": {},
   "outputs": [
    {
     "name": "stderr",
     "output_type": "stream",
     "text": [
      "/glob/intel-python/versions/2019u2/intelpython3/lib/python3.6/site-packages/ipykernel_launcher.py:1: SettingWithCopyWarning: \n",
      "A value is trying to be set on a copy of a slice from a DataFrame.\n",
      "Try using .loc[row_indexer,col_indexer] = value instead\n",
      "\n",
      "See the caveats in the documentation: http://pandas.pydata.org/pandas-docs/stable/indexing.html#indexing-view-versus-copy\n",
      "  \"\"\"Entry point for launching an IPython kernel.\n"
     ]
    }
   ],
   "source": [
    "train_data['l2'] = train_data['l2'].apply(lambda x: x[0])"
   ]
  },
  {
   "cell_type": "code",
   "execution_count": 48,
   "metadata": {},
   "outputs": [],
   "source": [
    "no_dup_data = train_data[train_data['is_duplicate']==0]"
   ]
  },
  {
   "cell_type": "code",
   "execution_count": 49,
   "metadata": {},
   "outputs": [],
   "source": [
    "dup_data = train_data[train_data['is_duplicate']==1]"
   ]
  },
  {
   "cell_type": "code",
   "execution_count": 50,
   "metadata": {},
   "outputs": [
    {
     "data": {
      "text/plain": [
       "<matplotlib.axes._subplots.AxesSubplot at 0x7f05b080e828>"
      ]
     },
     "execution_count": 50,
     "metadata": {},
     "output_type": "execute_result"
    },
    {
     "data": {
      "image/png": "[encoded data removed]",
      "text/plain": [
       "<Figure size 720x720 with 1 Axes>"
      ]
     },
     "metadata": {},
     "output_type": "display_data"
    }
   ],
   "source": [
    "no_dup_data.l2.hist(bins=50)\n",
    "# no_dup_data.l2.mean()"
   ]
  },
  {
   "cell_type": "code",
   "execution_count": 51,
   "metadata": {},
   "outputs": [
    {
     "data": {
      "text/plain": [
       "<matplotlib.axes._subplots.AxesSubplot at 0x7f05843d4be0>"
      ]
     },
     "execution_count": 51,
     "metadata": {},
     "output_type": "execute_result"
    },
    {
     "data": {
      "image/png": "[encoded data removed]",
      "text/plain": [
       "<Figure size 720x720 with 1 Axes>"
      ]
     },
     "metadata": {},
     "output_type": "display_data"
    }
   ],
   "source": [
    "dup_data.l2.hist(bins=50)\n",
    "# dup_data.l2.mean()"
   ]
  },
  {
   "cell_type": "code",
   "execution_count": 94,
   "metadata": {},
   "outputs": [],
   "source": [
    "boundary = 0.7"
   ]
  },
  {
   "cell_type": "code",
   "execution_count": null,
   "metadata": {},
   "outputs": [],
   "source": [
    "(len(dup_data[dup_data.l2<boundary]) + len(no_dup_data[no_dup_data.l2>=boundary]))/len(dev_data)"
   ]
  }
 ],
 "metadata": {
  "kernelspec": {
   "display_name": "Python 3 (Intel, 2019 update 2)",
   "language": "python",
   "name": "c009-intel_distribution_of_python_3_2019u2"
  }
 },
 "nbformat": 4,
 "nbformat_minor": 2
}
