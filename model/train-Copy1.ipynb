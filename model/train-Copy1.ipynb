{
 "cells": [
  {
   "cell_type": "code",
   "execution_count": 1,
   "metadata": {},
   "outputs": [],
   "source": [
    "from __future__ import unicode_literals, division\n",
    "import re\n",
    "import sys\n",
    "from tqdm import tqdm_notebook"
   ]
  },
  {
   "cell_type": "code",
   "execution_count": 2,
   "metadata": {},
   "outputs": [],
   "source": [
    "# ! pip install tqdm --user "
   ]
  },
  {
   "cell_type": "code",
   "execution_count": 3,
   "metadata": {},
   "outputs": [],
   "source": [
    "import pandas as pd\n",
    "import numpy as np\n",
    "import spacy\n",
    "\n",
    "import tensorflow as tf"
   ]
  },
  {
   "cell_type": "code",
   "execution_count": 4,
   "metadata": {},
   "outputs": [],
   "source": [
    "%matplotlib inline\n",
    "import matplotlib.pyplot as plt\n",
    "import seaborn as sns\n",
    "plt.rcParams['figure.figsize'] = (10,10)\n",
    "sns.set()"
   ]
  },
  {
   "cell_type": "code",
   "execution_count": 5,
   "metadata": {},
   "outputs": [],
   "source": [
    "%load_ext autoreload\n",
    "%autoreload 2"
   ]
  },
  {
   "cell_type": "code",
   "execution_count": 6,
   "metadata": {},
   "outputs": [
    {
     "name": "stderr",
     "output_type": "stream",
     "text": [
      "/home/u26008/.local/lib/python3.6/site-packages/smart_open/ssh.py:34: UserWarning: paramiko missing, opening SSH/SCP/SFTP paths will be disabled.  `pip install paramiko` to suppress\n",
      "  warnings.warn('paramiko missing, opening SSH/SCP/SFTP paths will be disabled.  `pip install paramiko` to suppress')\n"
     ]
    }
   ],
   "source": [
    "from embedding import get_embedding\n",
    "from config import Config\n",
    "from data_utils import tokenize_sent"
   ]
  },
  {
   "cell_type": "markdown",
   "metadata": {},
   "source": [
    "## POS Tags"
   ]
  },
  {
   "cell_type": "code",
   "execution_count": 7,
   "metadata": {},
   "outputs": [],
   "source": [
    "nlp = spacy.load('en_core_web_sm')\n",
    "def get_pos_tags(word_list):\n",
    "    tags = []\n",
    "    sent = ' '.join(word_list)\n",
    "    doc = nlp(sent)\n",
    "    [tags.append(token.tag_) for token in doc]\n",
    "    return tags"
   ]
  },
  {
   "cell_type": "code",
   "execution_count": 8,
   "metadata": {},
   "outputs": [
    {
     "data": {
      "text/plain": [
       "['PRP', 'VBP', 'NN']"
      ]
     },
     "execution_count": 8,
     "metadata": {},
     "output_type": "execute_result"
    }
   ],
   "source": [
    "get_pos_tags('i druuink tea'.split())"
   ]
  },
  {
   "cell_type": "markdown",
   "metadata": {},
   "source": [
    "# Get configurations"
   ]
  },
  {
   "cell_type": "code",
   "execution_count": 9,
   "metadata": {},
   "outputs": [],
   "source": [
    "config = Config()\n",
    "max_len = 70\n",
    "embedding_size = config.embedding_size"
   ]
  },
  {
   "cell_type": "code",
   "execution_count": 10,
   "metadata": {},
   "outputs": [],
   "source": [
    "path = '../train.csv'"
   ]
  },
  {
   "cell_type": "code",
   "execution_count": 11,
   "metadata": {},
   "outputs": [],
   "source": [
    "data = pd.read_csv(path)\n",
    "data = data[:100000]\n"
   ]
  },
  {
   "cell_type": "code",
   "execution_count": 12,
   "metadata": {},
   "outputs": [],
   "source": [
    "columns = data.columns"
   ]
  },
  {
   "cell_type": "code",
   "execution_count": 13,
   "metadata": {},
   "outputs": [
    {
     "data": {
      "text/plain": [
       "Index(['id', 'qid1', 'qid2', 'question1', 'question2', 'is_duplicate'], dtype='object')"
      ]
     },
     "execution_count": 13,
     "metadata": {},
     "output_type": "execute_result"
    }
   ],
   "source": [
    "columns"
   ]
  },
  {
   "cell_type": "code",
   "execution_count": 14,
   "metadata": {},
   "outputs": [
    {
     "data": {
      "text/html": [
       "<div>\n",
       "<style scoped>\n",
       "    .dataframe tbody tr th:only-of-type {\n",
       "        vertical-align: middle;\n",
       "    }\n",
       "\n",
       "    .dataframe tbody tr th {\n",
       "        vertical-align: top;\n",
       "    }\n",
       "\n",
       "    .dataframe thead th {\n",
       "        text-align: right;\n",
       "    }\n",
       "</style>\n",
       "<table border=\"1\" class=\"dataframe\">\n",
       "  <thead>\n",
       "    <tr style=\"text-align: right;\">\n",
       "      <th></th>\n",
       "      <th>id</th>\n",
       "      <th>qid1</th>\n",
       "      <th>qid2</th>\n",
       "      <th>question1</th>\n",
       "      <th>question2</th>\n",
       "      <th>is_duplicate</th>\n",
       "    </tr>\n",
       "  </thead>\n",
       "  <tbody>\n",
       "    <tr>\n",
       "      <th>0</th>\n",
       "      <td>0</td>\n",
       "      <td>1</td>\n",
       "      <td>2</td>\n",
       "      <td>What is the step by step guide to invest in sh...</td>\n",
       "      <td>What is the step by step guide to invest in sh...</td>\n",
       "      <td>0</td>\n",
       "    </tr>\n",
       "    <tr>\n",
       "      <th>1</th>\n",
       "      <td>1</td>\n",
       "      <td>3</td>\n",
       "      <td>4</td>\n",
       "      <td>What is the story of Kohinoor (Koh-i-Noor) Dia...</td>\n",
       "      <td>What would happen if the Indian government sto...</td>\n",
       "      <td>0</td>\n",
       "    </tr>\n",
       "    <tr>\n",
       "      <th>2</th>\n",
       "      <td>2</td>\n",
       "      <td>5</td>\n",
       "      <td>6</td>\n",
       "      <td>How can I increase the speed of my internet co...</td>\n",
       "      <td>How can Internet speed be increased by hacking...</td>\n",
       "      <td>0</td>\n",
       "    </tr>\n",
       "    <tr>\n",
       "      <th>3</th>\n",
       "      <td>3</td>\n",
       "      <td>7</td>\n",
       "      <td>8</td>\n",
       "      <td>Why am I mentally very lonely? How can I solve...</td>\n",
       "      <td>Find the remainder when [math]23^{24}[/math] i...</td>\n",
       "      <td>0</td>\n",
       "    </tr>\n",
       "    <tr>\n",
       "      <th>4</th>\n",
       "      <td>4</td>\n",
       "      <td>9</td>\n",
       "      <td>10</td>\n",
       "      <td>Which one dissolve in water quikly sugar, salt...</td>\n",
       "      <td>Which fish would survive in salt water?</td>\n",
       "      <td>0</td>\n",
       "    </tr>\n",
       "  </tbody>\n",
       "</table>\n",
       "</div>"
      ],
      "text/plain": [
       "   id  qid1  qid2                                          question1  \\\n",
       "0   0     1     2  What is the step by step guide to invest in sh...   \n",
       "1   1     3     4  What is the story of Kohinoor (Koh-i-Noor) Dia...   \n",
       "2   2     5     6  How can I increase the speed of my internet co...   \n",
       "3   3     7     8  Why am I mentally very lonely? How can I solve...   \n",
       "4   4     9    10  Which one dissolve in water quikly sugar, salt...   \n",
       "\n",
       "                                           question2  is_duplicate  \n",
       "0  What is the step by step guide to invest in sh...             0  \n",
       "1  What would happen if the Indian government sto...             0  \n",
       "2  How can Internet speed be increased by hacking...             0  \n",
       "3  Find the remainder when [math]23^{24}[/math] i...             0  \n",
       "4            Which fish would survive in salt water?             0  "
      ]
     },
     "execution_count": 14,
     "metadata": {},
     "output_type": "execute_result"
    }
   ],
   "source": [
    "data.head(5)"
   ]
  },
  {
   "cell_type": "code",
   "execution_count": 15,
   "metadata": {},
   "outputs": [
    {
     "data": {
      "text/plain": [
       "id              0\n",
       "qid1            0\n",
       "qid2            0\n",
       "question1       0\n",
       "question2       0\n",
       "is_duplicate    0\n",
       "dtype: int64"
      ]
     },
     "execution_count": 15,
     "metadata": {},
     "output_type": "execute_result"
    }
   ],
   "source": [
    "data.isna().sum()"
   ]
  },
  {
   "cell_type": "markdown",
   "metadata": {},
   "source": [
    "# sequence lengths"
   ]
  },
  {
   "cell_type": "code",
   "execution_count": 16,
   "metadata": {},
   "outputs": [],
   "source": [
    "data['seql_one'] = data['question1'].apply(lambda row: len(tokenize_sent(str(row).lower())))\n",
    "data['seql_two'] = data['question2'].apply(lambda row: len(tokenize_sent(str(row).lower())))"
   ]
  },
  {
   "cell_type": "code",
   "execution_count": 17,
   "metadata": {},
   "outputs": [],
   "source": [
    "data = data.loc[(data.seql_one != 0)  & (data.seql_two!=0) ]"
   ]
  },
  {
   "cell_type": "code",
   "execution_count": 18,
   "metadata": {},
   "outputs": [
    {
     "data": {
      "text/plain": [
       "Index(['id', 'qid1', 'qid2', 'question1', 'question2', 'is_duplicate',\n",
       "       'seql_one', 'seql_two'],\n",
       "      dtype='object')"
      ]
     },
     "execution_count": 18,
     "metadata": {},
     "output_type": "execute_result"
    }
   ],
   "source": [
    "data.columns"
   ]
  },
  {
   "cell_type": "markdown",
   "metadata": {},
   "source": [
    "# spliting data to train and dev"
   ]
  },
  {
   "cell_type": "markdown",
   "metadata": {},
   "source": [
    "80% train data and 20% test data"
   ]
  },
  {
   "cell_type": "code",
   "execution_count": 19,
   "metadata": {},
   "outputs": [],
   "source": [
    "split_ratio = 0.8"
   ]
  },
  {
   "cell_type": "code",
   "execution_count": 20,
   "metadata": {},
   "outputs": [],
   "source": [
    "l = len(data)"
   ]
  },
  {
   "cell_type": "code",
   "execution_count": 21,
   "metadata": {},
   "outputs": [],
   "source": [
    "train_length = int(l*split_ratio)"
   ]
  },
  {
   "cell_type": "code",
   "execution_count": 22,
   "metadata": {},
   "outputs": [
    {
     "data": {
      "text/html": [
       "<div>\n",
       "<style scoped>\n",
       "    .dataframe tbody tr th:only-of-type {\n",
       "        vertical-align: middle;\n",
       "    }\n",
       "\n",
       "    .dataframe tbody tr th {\n",
       "        vertical-align: top;\n",
       "    }\n",
       "\n",
       "    .dataframe thead th {\n",
       "        text-align: right;\n",
       "    }\n",
       "</style>\n",
       "<table border=\"1\" class=\"dataframe\">\n",
       "  <thead>\n",
       "    <tr style=\"text-align: right;\">\n",
       "      <th></th>\n",
       "      <th>id</th>\n",
       "      <th>qid1</th>\n",
       "      <th>qid2</th>\n",
       "      <th>question1</th>\n",
       "      <th>question2</th>\n",
       "      <th>seql_one</th>\n",
       "      <th>seql_two</th>\n",
       "    </tr>\n",
       "    <tr>\n",
       "      <th>is_duplicate</th>\n",
       "      <th></th>\n",
       "      <th></th>\n",
       "      <th></th>\n",
       "      <th></th>\n",
       "      <th></th>\n",
       "      <th></th>\n",
       "      <th></th>\n",
       "    </tr>\n",
       "  </thead>\n",
       "  <tbody>\n",
       "    <tr>\n",
       "      <th>0</th>\n",
       "      <td>62740</td>\n",
       "      <td>62740</td>\n",
       "      <td>62740</td>\n",
       "      <td>62740</td>\n",
       "      <td>62740</td>\n",
       "      <td>62740</td>\n",
       "      <td>62740</td>\n",
       "    </tr>\n",
       "    <tr>\n",
       "      <th>1</th>\n",
       "      <td>37254</td>\n",
       "      <td>37254</td>\n",
       "      <td>37254</td>\n",
       "      <td>37254</td>\n",
       "      <td>37254</td>\n",
       "      <td>37254</td>\n",
       "      <td>37254</td>\n",
       "    </tr>\n",
       "  </tbody>\n",
       "</table>\n",
       "</div>"
      ],
      "text/plain": [
       "                 id   qid1   qid2  question1  question2  seql_one  seql_two\n",
       "is_duplicate                                                               \n",
       "0             62740  62740  62740      62740      62740     62740     62740\n",
       "1             37254  37254  37254      37254      37254     37254     37254"
      ]
     },
     "execution_count": 22,
     "metadata": {},
     "output_type": "execute_result"
    }
   ],
   "source": [
    "data.groupby('is_duplicate').count()"
   ]
  },
  {
   "cell_type": "markdown",
   "metadata": {},
   "source": [
    "# word2vec features\n"
   ]
  },
  {
   "cell_type": "code",
   "execution_count": 23,
   "metadata": {},
   "outputs": [],
   "source": [
    "pos_tag_dict={}\n",
    "d_count = 0\n",
    "def get_tags(sent, pos_tag_dict):\n",
    "    tags = []\n",
    "    for tok in get_pos_tags(tokenize_sent(sent.lower())):\n",
    "        if tok not in pos_tag_dict:\n",
    "            pos_tag_dict[tok] = d_count\n",
    "            d_count+=1\n",
    "        tags.append(pos_tag_dict[tok])\n",
    "    return tags    "
   ]
  },
  {
   "cell_type": "code",
   "execution_count": 24,
   "metadata": {},
   "outputs": [],
   "source": [
    "pos_tag_dict={}\n",
    "d_count = 0\n",
    "def get_sent_embedding(sent):\n",
    "    sent = str(sent).lower().strip()\n",
    "    counter = 0\n",
    "    tokens = tokenize_sent(sent)\n",
    "    tags = get_pos_tags(tokens)\n",
    "    vector = np.empty((len(tokens), config.embedding_size+1))\n",
    "    \n",
    "\n",
    "    for i in range(len(tokens)):\n",
    "        w = tokens[i] \n",
    "        tok = tags[i]\n",
    "        global pos_tag_dict\n",
    "        global d_count\n",
    "\n",
    "        if tok not in pos_tag_dict:\n",
    "            pos_tag_dict[tok] = d_count\n",
    "            d_count+=1\n",
    "        vector[i] = (np.append(get_embedding(w), pos_tag_dict[tok]))\n",
    "    return vector"
   ]
  },
  {
   "cell_type": "code",
   "execution_count": 25,
   "metadata": {},
   "outputs": [],
   "source": [
    "# get_sent_embedding('i love reading')"
   ]
  },
  {
   "cell_type": "code",
   "execution_count": 26,
   "metadata": {},
   "outputs": [
    {
     "name": "stdout",
     "output_type": "stream",
     "text": [
      "loading w2v\n",
      "7.09 ms ± 1.48 ms per loop (mean ± std. dev. of 7 runs, 1 loop each)\n"
     ]
    }
   ],
   "source": [
    "%%timeit\n",
    "len(get_sent_embedding('i love reading'))"
   ]
  },
  {
   "cell_type": "code",
   "execution_count": 27,
   "metadata": {},
   "outputs": [],
   "source": [
    "# train_data['question1'].apply(lambda row: get_tags())"
   ]
  },
  {
   "cell_type": "code",
   "execution_count": 28,
   "metadata": {},
   "outputs": [
    {
     "name": "stderr",
     "output_type": "stream",
     "text": [
      "/glob/intel-python/versions/2019u2/intelpython3/lib/python3.6/site-packages/ipykernel_launcher.py:4: SettingWithCopyWarning: \n",
      "A value is trying to be set on a copy of a slice from a DataFrame.\n",
      "Try using .loc[row_indexer,col_indexer] = value instead\n",
      "\n",
      "See the caveats in the documentation: http://pandas.pydata.org/pandas-docs/stable/indexing.html#indexing-view-versus-copy\n",
      "  after removing the cwd from sys.path.\n",
      "/glob/intel-python/versions/2019u2/intelpython3/lib/python3.6/site-packages/ipykernel_launcher.py:5: SettingWithCopyWarning: \n",
      "A value is trying to be set on a copy of a slice from a DataFrame.\n",
      "Try using .loc[row_indexer,col_indexer] = value instead\n",
      "\n",
      "See the caveats in the documentation: http://pandas.pydata.org/pandas-docs/stable/indexing.html#indexing-view-versus-copy\n",
      "  \"\"\"\n"
     ]
    }
   ],
   "source": [
    "train_data = data[:train_length]\n",
    "\n",
    "\n",
    "train_data['vec_1'] = train_data['question1'].apply(lambda row: get_sent_embedding(row))\n",
    "train_data['vec_2'] = train_data['question2'].apply(lambda row: get_sent_embedding(row))\n",
    "\n",
    "train_data_all = list(zip(train_data.vec_1, train_data.vec_2, \n",
    "                 train_data.seql_one, train_data.seql_two, \n",
    "                 train_data.is_duplicate))\n"
   ]
  },
  {
   "cell_type": "code",
   "execution_count": 29,
   "metadata": {},
   "outputs": [
    {
     "name": "stderr",
     "output_type": "stream",
     "text": [
      "/glob/intel-python/versions/2019u2/intelpython3/lib/python3.6/site-packages/ipykernel_launcher.py:4: SettingWithCopyWarning: \n",
      "A value is trying to be set on a copy of a slice from a DataFrame.\n",
      "Try using .loc[row_indexer,col_indexer] = value instead\n",
      "\n",
      "See the caveats in the documentation: http://pandas.pydata.org/pandas-docs/stable/indexing.html#indexing-view-versus-copy\n",
      "  after removing the cwd from sys.path.\n",
      "/glob/intel-python/versions/2019u2/intelpython3/lib/python3.6/site-packages/ipykernel_launcher.py:5: SettingWithCopyWarning: \n",
      "A value is trying to be set on a copy of a slice from a DataFrame.\n",
      "Try using .loc[row_indexer,col_indexer] = value instead\n",
      "\n",
      "See the caveats in the documentation: http://pandas.pydata.org/pandas-docs/stable/indexing.html#indexing-view-versus-copy\n",
      "  \"\"\"\n"
     ]
    }
   ],
   "source": [
    "dev_data = data[train_length:]\n",
    "\n",
    "\n",
    "dev_data['vec_1'] = dev_data['question1'].apply(lambda row: get_sent_embedding(row))\n",
    "dev_data['vec_2'] = dev_data['question2'].apply(lambda row: get_sent_embedding(row))\n",
    "\n",
    "dev_data_all = list(zip(dev_data.vec_1, dev_data.vec_2, \n",
    "               dev_data.seql_one, dev_data.seql_two, \n",
    "               dev_data.is_duplicate))\n"
   ]
  },
  {
   "cell_type": "code",
   "execution_count": 34,
   "metadata": {},
   "outputs": [],
   "source": [
    "import pickle"
   ]
  },
  {
   "cell_type": "code",
   "execution_count": 35,
   "metadata": {},
   "outputs": [],
   "source": [
    "data_dict = {'train_data_all':train_data_all,\n",
    "'dev_data_all':dev_data_all}"
   ]
  },
  {
   "cell_type": "code",
   "execution_count": 37,
   "metadata": {},
   "outputs": [],
   "source": [
    "with open('data.pickle', 'wb') as handle:\n",
    "    pickle.dump(data_dict, handle, protocol=pickle.HIGHEST_PROTOCOL)"
   ]
  },
  {
   "cell_type": "code",
   "execution_count": 38,
   "metadata": {},
   "outputs": [],
   "source": [
    "# # Load data (deserialize)\n",
    "# with open('filename.pickle', 'rb') as handle:\n",
    "#     unserialized_data = pickle.load(handle)"
   ]
  },
  {
   "cell_type": "code",
   "execution_count": 39,
   "metadata": {},
   "outputs": [
    {
     "data": {
      "text/plain": [
       "19999"
      ]
     },
     "execution_count": 39,
     "metadata": {},
     "output_type": "execute_result"
    }
   ],
   "source": [
    "len(dev_data)"
   ]
  },
  {
   "cell_type": "markdown",
   "metadata": {},
   "source": [
    "# Building and training Model"
   ]
  },
  {
   "cell_type": "code",
   "execution_count": 40,
   "metadata": {},
   "outputs": [],
   "source": [
    "from model import Model\n",
    "model = Model()"
   ]
  },
  {
   "cell_type": "code",
   "execution_count": 41,
   "metadata": {},
   "outputs": [],
   "source": [
    "model.config.n_hidden = 128\n",
    "model.config.lr = 0.01\n",
    "model.config.batch_size = 16\n",
    "model.config.n_layers =3\n",
    "model.config.keep_prob = 0.7\n",
    "model.config.lambda_l2_reg = 0\n",
    "model.config.gradient_clipping = False\n",
    "model.config.triplet_loss=True"
   ]
  },
  {
   "cell_type": "code",
   "execution_count": 42,
   "metadata": {},
   "outputs": [
    {
     "name": "stdout",
     "output_type": "stream",
     "text": [
      "WARNING:tensorflow:From /home/u26008/repos/quora_duplicates/model/model.py:34: LSTMCell.__init__ (from tensorflow.python.ops.rnn_cell_impl) is deprecated and will be removed in a future version.\n",
      "Instructions for updating:\n",
      "This class is equivalent as tf.keras.layers.LSTMCell, and will be replaced by that in Tensorflow 2.0.\n",
      "WARNING:tensorflow:From /home/u26008/repos/quora_duplicates/model/model.py:46: MultiRNNCell.__init__ (from tensorflow.python.ops.rnn_cell_impl) is deprecated and will be removed in a future version.\n",
      "Instructions for updating:\n",
      "This class is equivalent as tf.keras.layers.StackedRNNCells, and will be replaced by that in Tensorflow 2.0.\n",
      "WARNING:tensorflow:From /home/u26008/repos/quora_duplicates/model/model.py:51: bidirectional_dynamic_rnn (from tensorflow.python.ops.rnn) is deprecated and will be removed in a future version.\n",
      "Instructions for updating:\n",
      "Please use `keras.layers.Bidirectional(keras.layers.RNN(cell))`, which is equivalent to this API\n",
      "WARNING:tensorflow:From /home/u26008/.local/lib/python3.6/site-packages/tensorflow/python/ops/rnn.py:443: dynamic_rnn (from tensorflow.python.ops.rnn) is deprecated and will be removed in a future version.\n",
      "Instructions for updating:\n",
      "Please use `keras.layers.RNN(cell)`, which is equivalent to this API\n",
      "WARNING:tensorflow:From /home/u26008/.local/lib/python3.6/site-packages/tensorflow/python/ops/rnn.py:626: to_int32 (from tensorflow.python.ops.math_ops) is deprecated and will be removed in a future version.\n",
      "Instructions for updating:\n",
      "Use tf.cast instead.\n",
      "WARNING:tensorflow:From /home/u26008/.local/lib/python3.6/site-packages/tensorflow/python/ops/tensor_array_ops.py:162: colocate_with (from tensorflow.python.framework.ops) is deprecated and will be removed in a future version.\n",
      "Instructions for updating:\n",
      "Colocations handled automatically by placer.\n",
      "WARNING:tensorflow:From /home/u26008/.local/lib/python3.6/site-packages/tensorflow/python/ops/rnn_cell_impl.py:1259: calling dropout (from tensorflow.python.ops.nn_ops) with keep_prob is deprecated and will be removed in a future version.\n",
      "Instructions for updating:\n",
      "Please use `rate` instead of `keep_prob`. Rate should be set to `rate = 1 - keep_prob`.\n",
      "INFO:tensorflow:Summary name gradients/lstm/bidirectional_rnn/fw/multi_rnn_cell/cell_0/lstm_cell/kernel:0 is illegal; using gradients/lstm/bidirectional_rnn/fw/multi_rnn_cell/cell_0/lstm_cell/kernel_0 instead.\n",
      "INFO:tensorflow:Summary name variables/lstm/bidirectional_rnn/fw/multi_rnn_cell/cell_0/lstm_cell/kernel:0 is illegal; using variables/lstm/bidirectional_rnn/fw/multi_rnn_cell/cell_0/lstm_cell/kernel_0 instead.\n",
      "INFO:tensorflow:Summary name gradients/lstm/bidirectional_rnn/fw/multi_rnn_cell/cell_0/lstm_cell/bias:0 is illegal; using gradients/lstm/bidirectional_rnn/fw/multi_rnn_cell/cell_0/lstm_cell/bias_0 instead.\n",
      "INFO:tensorflow:Summary name variables/lstm/bidirectional_rnn/fw/multi_rnn_cell/cell_0/lstm_cell/bias:0 is illegal; using variables/lstm/bidirectional_rnn/fw/multi_rnn_cell/cell_0/lstm_cell/bias_0 instead.\n",
      "INFO:tensorflow:Summary name gradients/lstm/bidirectional_rnn/fw/multi_rnn_cell/cell_1/lstm_cell/kernel:0 is illegal; using gradients/lstm/bidirectional_rnn/fw/multi_rnn_cell/cell_1/lstm_cell/kernel_0 instead.\n",
      "INFO:tensorflow:Summary name variables/lstm/bidirectional_rnn/fw/multi_rnn_cell/cell_1/lstm_cell/kernel:0 is illegal; using variables/lstm/bidirectional_rnn/fw/multi_rnn_cell/cell_1/lstm_cell/kernel_0 instead.\n",
      "INFO:tensorflow:Summary name gradients/lstm/bidirectional_rnn/fw/multi_rnn_cell/cell_1/lstm_cell/bias:0 is illegal; using gradients/lstm/bidirectional_rnn/fw/multi_rnn_cell/cell_1/lstm_cell/bias_0 instead.\n",
      "INFO:tensorflow:Summary name variables/lstm/bidirectional_rnn/fw/multi_rnn_cell/cell_1/lstm_cell/bias:0 is illegal; using variables/lstm/bidirectional_rnn/fw/multi_rnn_cell/cell_1/lstm_cell/bias_0 instead.\n",
      "INFO:tensorflow:Summary name gradients/lstm/bidirectional_rnn/fw/multi_rnn_cell/cell_2/lstm_cell/kernel:0 is illegal; using gradients/lstm/bidirectional_rnn/fw/multi_rnn_cell/cell_2/lstm_cell/kernel_0 instead.\n",
      "INFO:tensorflow:Summary name variables/lstm/bidirectional_rnn/fw/multi_rnn_cell/cell_2/lstm_cell/kernel:0 is illegal; using variables/lstm/bidirectional_rnn/fw/multi_rnn_cell/cell_2/lstm_cell/kernel_0 instead.\n",
      "INFO:tensorflow:Summary name gradients/lstm/bidirectional_rnn/fw/multi_rnn_cell/cell_2/lstm_cell/bias:0 is illegal; using gradients/lstm/bidirectional_rnn/fw/multi_rnn_cell/cell_2/lstm_cell/bias_0 instead.\n",
      "INFO:tensorflow:Summary name variables/lstm/bidirectional_rnn/fw/multi_rnn_cell/cell_2/lstm_cell/bias:0 is illegal; using variables/lstm/bidirectional_rnn/fw/multi_rnn_cell/cell_2/lstm_cell/bias_0 instead.\n",
      "INFO:tensorflow:Summary name gradients/lstm/bidirectional_rnn/bw/multi_rnn_cell/cell_0/lstm_cell/kernel:0 is illegal; using gradients/lstm/bidirectional_rnn/bw/multi_rnn_cell/cell_0/lstm_cell/kernel_0 instead.\n",
      "INFO:tensorflow:Summary name variables/lstm/bidirectional_rnn/bw/multi_rnn_cell/cell_0/lstm_cell/kernel:0 is illegal; using variables/lstm/bidirectional_rnn/bw/multi_rnn_cell/cell_0/lstm_cell/kernel_0 instead.\n",
      "INFO:tensorflow:Summary name gradients/lstm/bidirectional_rnn/bw/multi_rnn_cell/cell_0/lstm_cell/bias:0 is illegal; using gradients/lstm/bidirectional_rnn/bw/multi_rnn_cell/cell_0/lstm_cell/bias_0 instead.\n",
      "INFO:tensorflow:Summary name variables/lstm/bidirectional_rnn/bw/multi_rnn_cell/cell_0/lstm_cell/bias:0 is illegal; using variables/lstm/bidirectional_rnn/bw/multi_rnn_cell/cell_0/lstm_cell/bias_0 instead.\n",
      "INFO:tensorflow:Summary name gradients/lstm/bidirectional_rnn/bw/multi_rnn_cell/cell_1/lstm_cell/kernel:0 is illegal; using gradients/lstm/bidirectional_rnn/bw/multi_rnn_cell/cell_1/lstm_cell/kernel_0 instead.\n",
      "INFO:tensorflow:Summary name variables/lstm/bidirectional_rnn/bw/multi_rnn_cell/cell_1/lstm_cell/kernel:0 is illegal; using variables/lstm/bidirectional_rnn/bw/multi_rnn_cell/cell_1/lstm_cell/kernel_0 instead.\n",
      "INFO:tensorflow:Summary name gradients/lstm/bidirectional_rnn/bw/multi_rnn_cell/cell_1/lstm_cell/bias:0 is illegal; using gradients/lstm/bidirectional_rnn/bw/multi_rnn_cell/cell_1/lstm_cell/bias_0 instead.\n",
      "INFO:tensorflow:Summary name variables/lstm/bidirectional_rnn/bw/multi_rnn_cell/cell_1/lstm_cell/bias:0 is illegal; using variables/lstm/bidirectional_rnn/bw/multi_rnn_cell/cell_1/lstm_cell/bias_0 instead.\n",
      "INFO:tensorflow:Summary name gradients/lstm/bidirectional_rnn/bw/multi_rnn_cell/cell_2/lstm_cell/kernel:0 is illegal; using gradients/lstm/bidirectional_rnn/bw/multi_rnn_cell/cell_2/lstm_cell/kernel_0 instead.\n",
      "INFO:tensorflow:Summary name variables/lstm/bidirectional_rnn/bw/multi_rnn_cell/cell_2/lstm_cell/kernel:0 is illegal; using variables/lstm/bidirectional_rnn/bw/multi_rnn_cell/cell_2/lstm_cell/kernel_0 instead.\n",
      "INFO:tensorflow:Summary name gradients/lstm/bidirectional_rnn/bw/multi_rnn_cell/cell_2/lstm_cell/bias:0 is illegal; using gradients/lstm/bidirectional_rnn/bw/multi_rnn_cell/cell_2/lstm_cell/bias_0 instead.\n",
      "INFO:tensorflow:Summary name variables/lstm/bidirectional_rnn/bw/multi_rnn_cell/cell_2/lstm_cell/bias:0 is illegal; using variables/lstm/bidirectional_rnn/bw/multi_rnn_cell/cell_2/lstm_cell/bias_0 instead.\n"
     ]
    }
   ],
   "source": [
    "tf.reset_default_graph()\n",
    "model.build()"
   ]
  },
  {
   "cell_type": "code",
   "execution_count": null,
   "metadata": {},
   "outputs": [
    {
     "data": {
      "application/vnd.jupyter.widget-view+json": {
       "model_id": "5febaa040cb245abb5d807d247d3349a",
       "version_major": 2,
       "version_minor": 0
      },
      "text/plain": [
       "A Jupyter Widget"
      ]
     },
     "metadata": {},
     "output_type": "display_data"
    },
    {
     "name": "stdout",
     "output_type": "stream",
     "text": [
      "\n",
      "At epoch 0 loss is..-0.3467462041221559\n",
      "At epoch 0 training pos l2 mean is..0.42506677845567464\n",
      "At epoch 0 training neg l2 mean is..0.7718129826545715\n"
     ]
    },
    {
     "data": {
      "application/vnd.jupyter.widget-view+json": {
       "model_id": "60a1ac269d8d422db326053a0f3abb11",
       "version_major": 2,
       "version_minor": 0
      },
      "text/plain": [
       "A Jupyter Widget"
      ]
     },
     "metadata": {},
     "output_type": "display_data"
    },
    {
     "name": "stdout",
     "output_type": "stream",
     "text": [
      "\n",
      "At epoch 0 test pos l2 mean is..0.4278616897903383\n",
      "At epoch 0 test neg l2 mean is..0.7971371122598648\n",
      "==================================================\n"
     ]
    },
    {
     "data": {
      "application/vnd.jupyter.widget-view+json": {
       "model_id": "1ae8eae406b04449a12a642e9eb47c2c",
       "version_major": 2,
       "version_minor": 0
      },
      "text/plain": [
       "A Jupyter Widget"
      ]
     },
     "metadata": {},
     "output_type": "display_data"
    },
    {
     "name": "stdout",
     "output_type": "stream",
     "text": [
      "\n",
      "At epoch 1 loss is..-0.3831076438870281\n",
      "At epoch 1 training pos l2 mean is..0.42124914494338445\n",
      "At epoch 1 training neg l2 mean is..0.8043567889094353\n"
     ]
    },
    {
     "data": {
      "application/vnd.jupyter.widget-view+json": {
       "model_id": "196aec51fb69450a8b9e3457bcfcb3d0",
       "version_major": 2,
       "version_minor": 0
      },
      "text/plain": [
       "A Jupyter Widget"
      ]
     },
     "metadata": {},
     "output_type": "display_data"
    },
    {
     "name": "stdout",
     "output_type": "stream",
     "text": [
      "\n",
      "At epoch 1 test pos l2 mean is..0.40441738734990357\n",
      "At epoch 1 test neg l2 mean is..0.7904654852151871\n",
      "==================================================\n"
     ]
    },
    {
     "data": {
      "application/vnd.jupyter.widget-view+json": {
       "model_id": "e6d808aed0b04d208eede098eaf1e8a7",
       "version_major": 2,
       "version_minor": 0
      },
      "text/plain": [
       "A Jupyter Widget"
      ]
     },
     "metadata": {},
     "output_type": "display_data"
    },
    {
     "name": "stdout",
     "output_type": "stream",
     "text": [
      "\n",
      "At epoch 2 loss is..-0.40207673904523256\n",
      "At epoch 2 training pos l2 mean is..0.38871703326213175\n",
      "At epoch 2 training neg l2 mean is..0.7907937730312348\n"
     ]
    },
    {
     "data": {
      "application/vnd.jupyter.widget-view+json": {
       "model_id": "0b4525084a8f49d8b55a9a593d6f9978",
       "version_major": 2,
       "version_minor": 0
      },
      "text/plain": [
       "A Jupyter Widget"
      ]
     },
     "metadata": {},
     "output_type": "display_data"
    },
    {
     "name": "stdout",
     "output_type": "stream",
     "text": [
      "\n",
      "At epoch 2 test pos l2 mean is..0.3736435909476131\n",
      "At epoch 2 test neg l2 mean is..0.7787147790193558\n",
      "==================================================\n"
     ]
    },
    {
     "data": {
      "application/vnd.jupyter.widget-view+json": {
       "model_id": "f25bbee2b08c45e48b99147541c42964",
       "version_major": 2,
       "version_minor": 0
      },
      "text/plain": [
       "A Jupyter Widget"
      ]
     },
     "metadata": {},
     "output_type": "display_data"
    },
    {
     "name": "stdout",
     "output_type": "stream",
     "text": [
      "\n",
      "At epoch 3 loss is..-0.4115000020479783\n",
      "At epoch 3 training pos l2 mean is..0.36550619606139373\n",
      "At epoch 3 training neg l2 mean is..0.7770061976790428\n"
     ]
    },
    {
     "data": {
      "application/vnd.jupyter.widget-view+json": {
       "model_id": "ad90e6aa9cbb4c66ab026dec873572c5",
       "version_major": 2,
       "version_minor": 0
      },
      "text/plain": [
       "A Jupyter Widget"
      ]
     },
     "metadata": {},
     "output_type": "display_data"
    },
    {
     "name": "stdout",
     "output_type": "stream",
     "text": [
      "\n",
      "At epoch 3 test pos l2 mean is..0.3605464752081782\n",
      "At epoch 3 test neg l2 mean is..0.7691266340017319\n",
      "==================================================\n"
     ]
    },
    {
     "data": {
      "application/vnd.jupyter.widget-view+json": {
       "model_id": "388ef098b66b4b928365629f20628a78",
       "version_major": 2,
       "version_minor": 0
      },
      "text/plain": [
       "A Jupyter Widget"
      ]
     },
     "metadata": {},
     "output_type": "display_data"
    },
    {
     "name": "stdout",
     "output_type": "stream",
     "text": [
      "\n",
      "At epoch 4 loss is..-0.4163265423923731\n",
      "At epoch 4 training pos l2 mean is..0.3549134618008975\n",
      "At epoch 4 training neg l2 mean is..0.7712400036811828\n"
     ]
    },
    {
     "data": {
      "application/vnd.jupyter.widget-view+json": {
       "model_id": "6f94121aef1745f29ff94c74aff6c776",
       "version_major": 2,
       "version_minor": 0
      },
      "text/plain": [
       "A Jupyter Widget"
      ]
     },
     "metadata": {},
     "output_type": "display_data"
    },
    {
     "name": "stdout",
     "output_type": "stream",
     "text": [
      "\n",
      "At epoch 4 test pos l2 mean is..0.3537687076248229\n",
      "At epoch 4 test neg l2 mean is..0.7640170656681061\n",
      "==================================================\n"
     ]
    },
    {
     "data": {
      "application/vnd.jupyter.widget-view+json": {
       "model_id": "d04be60ca9b44695a9b74e408e95dda5",
       "version_major": 2,
       "version_minor": 0
      },
      "text/plain": [
       "A Jupyter Widget"
      ]
     },
     "metadata": {},
     "output_type": "display_data"
    },
    {
     "name": "stdout",
     "output_type": "stream",
     "text": [
      "\n",
      "At epoch 5 loss is..-0.41857897759024054\n",
      "At epoch 5 training pos l2 mean is..0.3498502534931642\n",
      "At epoch 5 training neg l2 mean is..0.7684292307555676\n"
     ]
    },
    {
     "data": {
      "application/vnd.jupyter.widget-view+json": {
       "model_id": "1c5216764b514d5f8175600c8dbf0ade",
       "version_major": 2,
       "version_minor": 0
      },
      "text/plain": [
       "A Jupyter Widget"
      ]
     },
     "metadata": {},
     "output_type": "display_data"
    },
    {
     "name": "stdout",
     "output_type": "stream",
     "text": [
      "\n",
      "At epoch 5 test pos l2 mean is..0.3500820790024474\n",
      "At epoch 5 test neg l2 mean is..0.7607247747063637\n",
      "==================================================\n"
     ]
    },
    {
     "data": {
      "application/vnd.jupyter.widget-view+json": {
       "model_id": "2e0499e595d04c9e814036c65c0d0800",
       "version_major": 2,
       "version_minor": 0
      },
      "text/plain": [
       "A Jupyter Widget"
      ]
     },
     "metadata": {},
     "output_type": "display_data"
    },
    {
     "name": "stdout",
     "output_type": "stream",
     "text": [
      "\n",
      "At epoch 6 loss is..-0.4183849268820137\n",
      "At epoch 6 training pos l2 mean is..0.34514432547424223\n",
      "At epoch 6 training neg l2 mean is..0.7635292522460222\n"
     ]
    },
    {
     "data": {
      "application/vnd.jupyter.widget-view+json": {
       "model_id": "0375c2d5b63b4a8db2566f4265883ef9",
       "version_major": 2,
       "version_minor": 0
      },
      "text/plain": [
       "A Jupyter Widget"
      ]
     },
     "metadata": {},
     "output_type": "display_data"
    },
    {
     "name": "stdout",
     "output_type": "stream",
     "text": [
      "\n",
      "At epoch 6 test pos l2 mean is..0.3482780338703655\n",
      "At epoch 6 test neg l2 mean is..0.7590387650251389\n",
      "==================================================\n"
     ]
    },
    {
     "data": {
      "application/vnd.jupyter.widget-view+json": {
       "model_id": "0ef5874326564ce4a61f1804d9e081d7",
       "version_major": 2,
       "version_minor": 0
      },
      "text/plain": [
       "A Jupyter Widget"
      ]
     },
     "metadata": {},
     "output_type": "display_data"
    },
    {
     "name": "stdout",
     "output_type": "stream",
     "text": [
      "\n",
      "At epoch 8 loss is..-0.41860731002390383\n",
      "At epoch 8 training pos l2 mean is..0.3455341859647655\n",
      "At epoch 8 training neg l2 mean is..0.764141494769603\n"
     ]
    },
    {
     "data": {
      "application/vnd.jupyter.widget-view+json": {
       "model_id": "7cfd33d7c3944b3ca0281a5b7089ae70",
       "version_major": 2,
       "version_minor": 0
      },
      "text/plain": [
       "A Jupyter Widget"
      ]
     },
     "metadata": {},
     "output_type": "display_data"
    },
    {
     "name": "stdout",
     "output_type": "stream",
     "text": [
      "\n",
      "At epoch 8 test pos l2 mean is..0.3484025360055268\n",
      "At epoch 8 test neg l2 mean is..0.7607086215257645\n",
      "==================================================\n"
     ]
    },
    {
     "data": {
      "application/vnd.jupyter.widget-view+json": {
       "model_id": "300fa17bd73b47b3afc35077519cfbcc",
       "version_major": 2,
       "version_minor": 0
      },
      "text/plain": [
       "A Jupyter Widget"
      ]
     },
     "metadata": {},
     "output_type": "display_data"
    },
    {
     "name": "stderr",
     "output_type": "stream",
     "text": [
      "IOPub message rate exceeded.\n",
      "The notebook server will temporarily stop sending output\n",
      "to the client in order to avoid crashing it.\n",
      "To change this limit, set the config variable\n",
      "`--NotebookApp.iopub_msg_rate_limit`.\n",
      "\n",
      "Current values:\n",
      "NotebookApp.iopub_msg_rate_limit=1000.0 (msgs/sec)\n",
      "NotebookApp.rate_limit_window=3.0 (secs)\n",
      "\n"
     ]
    },
    {
     "name": "stdout",
     "output_type": "stream",
     "text": [
      "\n",
      "At epoch 11 loss is..-0.41987842818070203\n",
      "At epoch 11 training pos l2 mean is..0.3451615982653573\n",
      "At epoch 11 training neg l2 mean is..0.7650400270819664\n"
     ]
    },
    {
     "data": {
      "application/vnd.jupyter.widget-view+json": {
       "model_id": "ac659f82bcff43f9ae0e0e69eea967e2",
       "version_major": 2,
       "version_minor": 0
      },
      "text/plain": [
       "A Jupyter Widget"
      ]
     },
     "metadata": {},
     "output_type": "display_data"
    },
    {
     "name": "stdout",
     "output_type": "stream",
     "text": [
      "\n",
      "At epoch 11 test pos l2 mean is..0.34724231852218507\n",
      "At epoch 11 test neg l2 mean is..0.7598869111657143\n",
      "==================================================\n"
     ]
    },
    {
     "data": {
      "application/vnd.jupyter.widget-view+json": {
       "model_id": "fae10a535d8d4bf0aa06277deb9d14cc",
       "version_major": 2,
       "version_minor": 0
      },
      "text/plain": [
       "A Jupyter Widget"
      ]
     },
     "metadata": {},
     "output_type": "display_data"
    },
    {
     "name": "stdout",
     "output_type": "stream",
     "text": [
      "\n",
      "At epoch 12 loss is..-0.4191392856404185\n",
      "At epoch 12 training pos l2 mean is..0.34502101965798065\n",
      "At epoch 12 training neg l2 mean is..0.7641603049069643\n"
     ]
    },
    {
     "data": {
      "application/vnd.jupyter.widget-view+json": {
       "model_id": "4b3bbc22da9e40c69e95eedce4f8b91e",
       "version_major": 2,
       "version_minor": 0
      },
      "text/plain": [
       "A Jupyter Widget"
      ]
     },
     "metadata": {},
     "output_type": "display_data"
    },
    {
     "name": "stdout",
     "output_type": "stream",
     "text": [
      "\n",
      "At epoch 12 test pos l2 mean is..0.3476611074578483\n",
      "At epoch 12 test neg l2 mean is..0.7608668336391449\n",
      "==================================================\n"
     ]
    },
    {
     "data": {
      "application/vnd.jupyter.widget-view+json": {
       "model_id": "2387b53b648b4119951e2125123814ab",
       "version_major": 2,
       "version_minor": 0
      },
      "text/plain": [
       "A Jupyter Widget"
      ]
     },
     "metadata": {},
     "output_type": "display_data"
    }
   ],
   "source": [
    "model.train(train_data=train_data_all, dev_data=dev_data_all)"
   ]
  },
  {
   "cell_type": "code",
   "execution_count": null,
   "metadata": {},
   "outputs": [],
   "source": []
  },
  {
   "cell_type": "markdown",
   "metadata": {},
   "source": [
    "## Restore Model"
   ]
  },
  {
   "cell_type": "code",
   "execution_count": null,
   "metadata": {},
   "outputs": [],
   "source": [
    "model.restore_session(config.save_dir)"
   ]
  },
  {
   "cell_type": "markdown",
   "metadata": {},
   "source": [
    "## Test accuracy"
   ]
  },
  {
   "cell_type": "code",
   "execution_count": null,
   "metadata": {},
   "outputs": [],
   "source": [
    "def get_score(model, vec_1, vec_2):\n",
    "    s1 = len(vec_1)\n",
    "    s2 = len(vec_2)\n",
    "    return model.get_feed_dict(sent_1=[vec_1], \n",
    "                        sent_2=[vec_2], \n",
    "                        sent_1_len=[s1], \n",
    "                        sent_2_len=[s2],\n",
    "                        label = None\n",
    "                       )\n",
    "    "
   ]
  },
  {
   "cell_type": "code",
   "execution_count": null,
   "metadata": {},
   "outputs": [],
   "source": [
    "# get_score(model, dev_data.vec_1.values, dev_data.vec_2.values)"
   ]
  },
  {
   "cell_type": "code",
   "execution_count": null,
   "metadata": {},
   "outputs": [],
   "source": [
    "def get_l2_score(model, vec1, vec2):\n",
    "    return model.sess.run(model.l2, feed_dict=get_score(model, vec1, vec2))\n",
    "    "
   ]
  },
  {
   "cell_type": "code",
   "execution_count": null,
   "metadata": {},
   "outputs": [],
   "source": [
    "# dev_data.head()"
   ]
  },
  {
   "cell_type": "code",
   "execution_count": null,
   "metadata": {},
   "outputs": [],
   "source": [
    "dev_data['l2'] = dev_data.apply(lambda row: get_l2_score(model, row['vec_1'], row['vec_2']), axis=1)"
   ]
  },
  {
   "cell_type": "code",
   "execution_count": null,
   "metadata": {},
   "outputs": [],
   "source": [
    "dev_data['l2'] = dev_data['l2'].apply(lambda x: x[0])"
   ]
  },
  {
   "cell_type": "code",
   "execution_count": null,
   "metadata": {},
   "outputs": [],
   "source": [
    "no_dup_data = dev_data[dev_data['is_duplicate']==0]"
   ]
  },
  {
   "cell_type": "code",
   "execution_count": null,
   "metadata": {},
   "outputs": [],
   "source": [
    "dup_data = dev_data[dev_data['is_duplicate']==1]"
   ]
  },
  {
   "cell_type": "code",
   "execution_count": null,
   "metadata": {},
   "outputs": [],
   "source": [
    "no_dup_data.l2.hist(bins=50)\n",
    "# no_dup_data.l2.mean()"
   ]
  },
  {
   "cell_type": "code",
   "execution_count": null,
   "metadata": {},
   "outputs": [],
   "source": [
    "dup_data.l2.hist(bins=50)\n",
    "# dup_data.l2.mean()"
   ]
  },
  {
   "cell_type": "code",
   "execution_count": 44,
   "metadata": {},
   "outputs": [],
   "source": [
    "boundary = 0.7"
   ]
  },
  {
   "cell_type": "code",
   "execution_count": 45,
   "metadata": {},
   "outputs": [
    {
     "data": {
      "text/plain": [
       "0.6746337316865844"
      ]
     },
     "execution_count": 45,
     "metadata": {},
     "output_type": "execute_result"
    }
   ],
   "source": [
    "(len(dup_data[dup_data.l2<boundary]) + len(no_dup_data[no_dup_data.l2>=boundary]))/len(dev_data)"
   ]
  },
  {
   "cell_type": "code",
   "execution_count": null,
   "metadata": {},
   "outputs": [],
   "source": []
  },
  {
   "cell_type": "markdown",
   "metadata": {},
   "source": [
    "##  Train Accuracy"
   ]
  },
  {
   "cell_type": "code",
   "execution_count": 46,
   "metadata": {},
   "outputs": [
    {
     "name": "stderr",
     "output_type": "stream",
     "text": [
      "/glob/intel-python/versions/2019u2/intelpython3/lib/python3.6/site-packages/ipykernel_launcher.py:1: SettingWithCopyWarning: \n",
      "A value is trying to be set on a copy of a slice from a DataFrame.\n",
      "Try using .loc[row_indexer,col_indexer] = value instead\n",
      "\n",
      "See the caveats in the documentation: http://pandas.pydata.org/pandas-docs/stable/indexing.html#indexing-view-versus-copy\n",
      "  \"\"\"Entry point for launching an IPython kernel.\n"
     ]
    }
   ],
   "source": [
    "train_data['l2'] = train_data.apply(lambda row: get_l2_score(model, row['vec_1'], row['vec_2']), axis=1)"
   ]
  },
  {
   "cell_type": "code",
   "execution_count": 47,
   "metadata": {},
   "outputs": [
    {
     "name": "stderr",
     "output_type": "stream",
     "text": [
      "/glob/intel-python/versions/2019u2/intelpython3/lib/python3.6/site-packages/ipykernel_launcher.py:1: SettingWithCopyWarning: \n",
      "A value is trying to be set on a copy of a slice from a DataFrame.\n",
      "Try using .loc[row_indexer,col_indexer] = value instead\n",
      "\n",
      "See the caveats in the documentation: http://pandas.pydata.org/pandas-docs/stable/indexing.html#indexing-view-versus-copy\n",
      "  \"\"\"Entry point for launching an IPython kernel.\n"
     ]
    }
   ],
   "source": [
    "train_data['l2'] = train_data['l2'].apply(lambda x: x[0])"
   ]
  },
  {
   "cell_type": "code",
   "execution_count": 48,
   "metadata": {},
   "outputs": [],
   "source": [
    "no_dup_data = train_data[train_data['is_duplicate']==0]"
   ]
  },
  {
   "cell_type": "code",
   "execution_count": 49,
   "metadata": {},
   "outputs": [],
   "source": [
    "dup_data = train_data[train_data['is_duplicate']==1]"
   ]
  },
  {
   "cell_type": "code",
   "execution_count": 50,
   "metadata": {},
   "outputs": [
    {
     "data": {
      "text/plain": [
       "<matplotlib.axes._subplots.AxesSubplot at 0x7f05b080e828>"
      ]
     },
     "execution_count": 50,
     "metadata": {},
     "output_type": "execute_result"
    },
    {
     "data": {
      "image/png": "[encoded data removed]",
      "text/plain": [
       "<Figure size 720x720 with 1 Axes>"
      ]
     },
     "metadata": {},
     "output_type": "display_data"
    }
   ],
   "source": [
    "no_dup_data.l2.hist(bins=50)\n",
    "# no_dup_data.l2.mean()"
   ]
  },
  {
   "cell_type": "code",
   "execution_count": 51,
   "metadata": {},
   "outputs": [
    {
     "data": {
      "text/plain": [
       "<matplotlib.axes._subplots.AxesSubplot at 0x7f05843d4be0>"
      ]
     },
     "execution_count": 51,
     "metadata": {},
     "output_type": "execute_result"
    },
    {
     "data": {
      "image/png": "[encoded data removed]",
      "text/plain": [
       "<Figure size 720x720 with 1 Axes>"
      ]
     },
     "metadata": {},
     "output_type": "display_data"
    }
   ],
   "source": [
    "dup_data.l2.hist(bins=50)\n",
    "# dup_data.l2.mean()"
   ]
  },
  {
   "cell_type": "code",
   "execution_count": 94,
   "metadata": {},
   "outputs": [],
   "source": [
    "boundary = 0.7"
   ]
  },
  {
   "cell_type": "code",
   "execution_count": null,
   "metadata": {},
   "outputs": [],
   "source": [
    "(len(dup_data[dup_data.l2<boundary]) + len(no_dup_data[no_dup_data.l2>=boundary]))/len(dev_data)"
   ]
  }
 ],
 "metadata": {
  "kernelspec": {
   "display_name": "Python 3 (Intel, 2019 update 2)",
   "language": "python",
   "name": "c009-intel_distribution_of_python_3_2019u2"
  },
  "language_info": {
   "codemirror_mode": {
    "name": "ipython",
    "version": 3
   },
   "file_extension": ".py",
   "mimetype": "text/x-python",
   "name": "python",
   "nbconvert_exporter": "python",
   "pygments_lexer": "ipython3",
   "version": "3.6.8"
  }
 },
 "nbformat": 4,
 "nbformat_minor": 2
}
